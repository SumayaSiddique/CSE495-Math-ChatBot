{
 "cells": [
  {
   "cell_type": "code",
   "execution_count": 1,
   "id": "f22fc8f8",
   "metadata": {},
   "outputs": [
    {
     "name": "stdout",
     "output_type": "stream",
     "text": [
      "Requirement already satisfied: wikipedia-api in /Users/sabuni/opt/anaconda3/lib/python3.9/site-packages (0.5.4)\n",
      "Requirement already satisfied: requests in /Users/sabuni/opt/anaconda3/lib/python3.9/site-packages (from wikipedia-api) (2.26.0)\n",
      "Requirement already satisfied: charset-normalizer~=2.0.0 in /Users/sabuni/opt/anaconda3/lib/python3.9/site-packages (from requests->wikipedia-api) (2.0.4)\n",
      "Requirement already satisfied: certifi>=2017.4.17 in /Users/sabuni/opt/anaconda3/lib/python3.9/site-packages (from requests->wikipedia-api) (2021.10.8)\n",
      "Requirement already satisfied: idna<4,>=2.5 in /Users/sabuni/opt/anaconda3/lib/python3.9/site-packages (from requests->wikipedia-api) (3.2)\n",
      "Requirement already satisfied: urllib3<1.27,>=1.21.1 in /Users/sabuni/opt/anaconda3/lib/python3.9/site-packages (from requests->wikipedia-api) (1.26.7)\n",
      "Requirement already satisfied: wikipedia in /Users/sabuni/opt/anaconda3/lib/python3.9/site-packages (1.4.0)\n",
      "Requirement already satisfied: beautifulsoup4 in /Users/sabuni/opt/anaconda3/lib/python3.9/site-packages (from wikipedia) (4.10.0)\n",
      "Requirement already satisfied: requests<3.0.0,>=2.0.0 in /Users/sabuni/opt/anaconda3/lib/python3.9/site-packages (from wikipedia) (2.26.0)\n",
      "Requirement already satisfied: idna<4,>=2.5 in /Users/sabuni/opt/anaconda3/lib/python3.9/site-packages (from requests<3.0.0,>=2.0.0->wikipedia) (3.2)\n",
      "Requirement already satisfied: certifi>=2017.4.17 in /Users/sabuni/opt/anaconda3/lib/python3.9/site-packages (from requests<3.0.0,>=2.0.0->wikipedia) (2021.10.8)\n",
      "Requirement already satisfied: urllib3<1.27,>=1.21.1 in /Users/sabuni/opt/anaconda3/lib/python3.9/site-packages (from requests<3.0.0,>=2.0.0->wikipedia) (1.26.7)\n",
      "Requirement already satisfied: charset-normalizer~=2.0.0 in /Users/sabuni/opt/anaconda3/lib/python3.9/site-packages (from requests<3.0.0,>=2.0.0->wikipedia) (2.0.4)\n",
      "Requirement already satisfied: soupsieve>1.2 in /Users/sabuni/opt/anaconda3/lib/python3.9/site-packages (from beautifulsoup4->wikipedia) (2.2.1)\n",
      "Requirement already satisfied: telegram in /Users/sabuni/opt/anaconda3/lib/python3.9/site-packages (0.0.1)\n",
      "Requirement already satisfied: spacy in /Users/sabuni/opt/anaconda3/lib/python3.9/site-packages (3.2.4)\n",
      "Requirement already satisfied: setuptools in /Users/sabuni/opt/anaconda3/lib/python3.9/site-packages (from spacy) (58.0.4)\n",
      "Requirement already satisfied: thinc<8.1.0,>=8.0.12 in /Users/sabuni/opt/anaconda3/lib/python3.9/site-packages (from spacy) (8.0.15)\n",
      "Requirement already satisfied: packaging>=20.0 in /Users/sabuni/opt/anaconda3/lib/python3.9/site-packages (from spacy) (21.0)\n",
      "Requirement already satisfied: pydantic!=1.8,!=1.8.1,<1.9.0,>=1.7.4 in /Users/sabuni/opt/anaconda3/lib/python3.9/site-packages (from spacy) (1.8.2)\n",
      "Requirement already satisfied: langcodes<4.0.0,>=3.2.0 in /Users/sabuni/opt/anaconda3/lib/python3.9/site-packages (from spacy) (3.3.0)\n",
      "Requirement already satisfied: wasabi<1.1.0,>=0.8.1 in /Users/sabuni/opt/anaconda3/lib/python3.9/site-packages (from spacy) (0.9.1)\n",
      "Requirement already satisfied: cymem<2.1.0,>=2.0.2 in /Users/sabuni/opt/anaconda3/lib/python3.9/site-packages (from spacy) (2.0.6)\n",
      "Requirement already satisfied: murmurhash<1.1.0,>=0.28.0 in /Users/sabuni/opt/anaconda3/lib/python3.9/site-packages (from spacy) (1.0.6)\n",
      "Requirement already satisfied: preshed<3.1.0,>=3.0.2 in /Users/sabuni/opt/anaconda3/lib/python3.9/site-packages (from spacy) (3.0.6)\n",
      "Requirement already satisfied: spacy-legacy<3.1.0,>=3.0.8 in /Users/sabuni/opt/anaconda3/lib/python3.9/site-packages (from spacy) (3.0.9)\n",
      "Requirement already satisfied: numpy>=1.15.0 in /Users/sabuni/opt/anaconda3/lib/python3.9/site-packages (from spacy) (1.20.3)\n",
      "Requirement already satisfied: blis<0.8.0,>=0.4.0 in /Users/sabuni/opt/anaconda3/lib/python3.9/site-packages (from spacy) (0.7.7)\n",
      "Requirement already satisfied: tqdm<5.0.0,>=4.38.0 in /Users/sabuni/opt/anaconda3/lib/python3.9/site-packages (from spacy) (4.62.3)\n",
      "Requirement already satisfied: pathy>=0.3.5 in /Users/sabuni/opt/anaconda3/lib/python3.9/site-packages (from spacy) (0.6.1)\n",
      "Requirement already satisfied: click<8.1.0 in /Users/sabuni/opt/anaconda3/lib/python3.9/site-packages (from spacy) (8.0.3)\n",
      "Requirement already satisfied: srsly<3.0.0,>=2.4.1 in /Users/sabuni/opt/anaconda3/lib/python3.9/site-packages (from spacy) (2.4.2)\n",
      "Requirement already satisfied: jinja2 in /Users/sabuni/opt/anaconda3/lib/python3.9/site-packages (from spacy) (2.11.3)\n",
      "Requirement already satisfied: typer<0.5.0,>=0.3.0 in /Users/sabuni/opt/anaconda3/lib/python3.9/site-packages (from spacy) (0.4.1)\n",
      "Requirement already satisfied: catalogue<2.1.0,>=2.0.6 in /Users/sabuni/opt/anaconda3/lib/python3.9/site-packages (from spacy) (2.0.7)\n",
      "Requirement already satisfied: requests<3.0.0,>=2.13.0 in /Users/sabuni/opt/anaconda3/lib/python3.9/site-packages (from spacy) (2.26.0)\n",
      "Requirement already satisfied: spacy-loggers<2.0.0,>=1.0.0 in /Users/sabuni/opt/anaconda3/lib/python3.9/site-packages (from spacy) (1.0.2)\n",
      "Requirement already satisfied: pyparsing>=2.0.2 in /Users/sabuni/opt/anaconda3/lib/python3.9/site-packages (from packaging>=20.0->spacy) (3.0.4)\n",
      "Requirement already satisfied: smart-open<6.0.0,>=5.0.0 in /Users/sabuni/opt/anaconda3/lib/python3.9/site-packages (from pathy>=0.3.5->spacy) (5.2.1)\n",
      "Requirement already satisfied: typing-extensions>=3.7.4.3 in /Users/sabuni/opt/anaconda3/lib/python3.9/site-packages (from pydantic!=1.8,!=1.8.1,<1.9.0,>=1.7.4->spacy) (3.10.0.2)\n",
      "Requirement already satisfied: idna<4,>=2.5 in /Users/sabuni/opt/anaconda3/lib/python3.9/site-packages (from requests<3.0.0,>=2.13.0->spacy) (3.2)\n",
      "Requirement already satisfied: certifi>=2017.4.17 in /Users/sabuni/opt/anaconda3/lib/python3.9/site-packages (from requests<3.0.0,>=2.13.0->spacy) (2021.10.8)\n",
      "Requirement already satisfied: charset-normalizer~=2.0.0 in /Users/sabuni/opt/anaconda3/lib/python3.9/site-packages (from requests<3.0.0,>=2.13.0->spacy) (2.0.4)\n",
      "Requirement already satisfied: urllib3<1.27,>=1.21.1 in /Users/sabuni/opt/anaconda3/lib/python3.9/site-packages (from requests<3.0.0,>=2.13.0->spacy) (1.26.7)\n",
      "Requirement already satisfied: MarkupSafe>=0.23 in /Users/sabuni/opt/anaconda3/lib/python3.9/site-packages (from jinja2->spacy) (1.1.1)\n"
     ]
    }
   ],
   "source": [
    "!pip install wikipedia-api\n",
    "!pip install wikipedia\n",
    "!pip install telegram\n",
    "!pip install spacy"
   ]
  },
  {
   "cell_type": "code",
   "execution_count": null,
   "id": "69205a46",
   "metadata": {},
   "outputs": [],
   "source": [
    "import random\n",
    "import spacy\n",
    "import wikipedia\n",
    "import telegram\n",
    "import math\n",
    "from random import *\n",
    "\n",
    "from clarifai.rest import ClarifaiApp, Image\n",
    "from spellchecker import SpellChecker\n",
    "from telegram.ext import Updater, CommandHandler, MessageHandler, Filters\n",
    "\n",
    "wiki_api = wikipediaapi.Wikipedia('en')\n",
    "bot = telegram.Bot(token='<token>')"
   ]
  },
  {
   "cell_type": "code",
   "execution_count": null,
   "id": "7c4dfe23",
   "metadata": {},
   "outputs": [],
   "source": []
  }
 ],
 "metadata": {
  "kernelspec": {
   "display_name": "Python 3 (ipykernel)",
   "language": "python",
   "name": "python3"
  },
  "language_info": {
   "codemirror_mode": {
    "name": "ipython",
    "version": 3
   },
   "file_extension": ".py",
   "mimetype": "text/x-python",
   "name": "python",
   "nbconvert_exporter": "python",
   "pygments_lexer": "ipython3",
   "version": "3.9.7"
  }
 },
 "nbformat": 4,
 "nbformat_minor": 5
}
